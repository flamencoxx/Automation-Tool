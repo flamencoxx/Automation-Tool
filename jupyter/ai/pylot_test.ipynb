{
 "cells": [
  {
   "metadata": {},
   "cell_type": "code",
   "outputs": [],
   "execution_count": null,
   "source": "1.梯度的图表",
   "id": "e8465e575da6a3ae"
  },
  {
   "metadata": {},
   "cell_type": "code",
   "outputs": [],
   "execution_count": null,
   "source": [
    "from mplfonts import use_font\n",
    "use_font('Noto Serif CJK SC')\n",
    "import numpy as np\n",
    "import matplotlib.pyplot as plt\n",
    "\n",
    "# 创建数据\n",
    "x = np.linspace(-5, 5, 100)\n",
    "y = x**2  # 简单的抛物线函数\n",
    "\n",
    "# 选择几个点来显示梯度\n",
    "points = [-4, -2, 0, 2, 4]\n",
    "gradients = [2*p for p in points]  # 导数 = 2x\n",
    "\n",
    "plt.figure(figsize=(10, 6))\n",
    "# 绘制主函数\n",
    "plt.plot(x, y, 'b-', label='f(x) = x²')\n",
    "\n",
    "# 绘制各点的梯度\n",
    "for p, g in zip(points, gradients):\n",
    "    plt.arrow(p, p**2,\n",
    "             -g/5, -g*g/5,  # 梯度方向\n",
    "             head_width=0.2,\n",
    "             head_length=0.3,\n",
    "             fc='red',\n",
    "             ec='red')\n",
    "\n",
    "plt.grid(True)\n",
    "plt.title('梯度示例：f(x) = x²')\n",
    "plt.xlabel('x')\n",
    "plt.ylabel('f(x)')\n",
    "plt.legend()\n",
    "plt.show()\n"
   ],
   "id": "3be228a38f723611"
  }
 ],
 "metadata": {},
 "nbformat": 5,
 "nbformat_minor": 9
}
